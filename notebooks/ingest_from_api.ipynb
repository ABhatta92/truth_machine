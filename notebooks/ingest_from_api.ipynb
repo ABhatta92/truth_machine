{
 "cells": [
  {
   "cell_type": "code",
   "execution_count": 1,
   "id": "052ea6f6-df2c-476f-8034-c58ed9082c98",
   "metadata": {},
   "outputs": [],
   "source": [
    "import sys, os, requests, cudf, json\n",
    "from pathlib import Path\n",
    "sys.path.append('/workspace')\n",
    "from config import *"
   ]
  },
  {
   "cell_type": "code",
   "execution_count": 5,
   "id": "f8da87f0-9fd7-4a73-bb4b-2c9ef6c66ef1",
   "metadata": {
    "tags": []
   },
   "outputs": [
    {
     "name": "stdout",
     "output_type": "stream",
     "text": [
      "Status code: 200\n",
      "Returned JSON keys: dict_keys(['status', 'success', 'count', 'error'])\n",
      "Metadata: {}\n",
      "Sample data: []\n"
     ]
    }
   ],
   "source": [
    "params = {\n",
    "    'key': ACLED_API_KEY,\n",
    "    'region': 'India', \n",
    "    'limit': 1000\n",
    "}\n",
    "\n",
    "response = requests.get(\"https://api.acleddata.com/acled/read\", params=params)\n",
    "data = response.json()\n",
    "events = data.get('data', [])\n",
    "\n",
    "print(\"Status code:\", response.status_code)\n",
    "print(\"Returned JSON keys:\", data.keys())\n",
    "print(\"Metadata:\", data.get(\"metadata\", {}))\n",
    "print(\"Sample data:\", data.get(\"data\", [])[:1])\n",
    "\n",
    "# df = cudf.DataFrame(events)\n",
    "# print(df.head())"
   ]
  },
  {
   "cell_type": "code",
   "execution_count": 6,
   "id": "d062db81-f6c2-4b12-8172-5132c2eba311",
   "metadata": {},
   "outputs": [
    {
     "name": "stdout",
     "output_type": "stream",
     "text": [
      "Error: {'status': 403, 'message': 'Incorrect email or access key entered. Please try again.'}\n"
     ]
    }
   ],
   "source": [
    "print(\"Error:\", data.get(\"error\"))"
   ]
  },
  {
   "cell_type": "code",
   "execution_count": null,
   "id": "7d6ffbc5",
   "metadata": {},
   "outputs": [],
   "source": []
  },
  {
   "cell_type": "code",
   "execution_count": null,
   "id": "847f1429",
   "metadata": {},
   "outputs": [],
   "source": []
  }
 ],
 "metadata": {
  "kernelspec": {
   "display_name": "Python 3 (ipykernel)",
   "language": "python",
   "name": "python3"
  },
  "language_info": {
   "codemirror_mode": {
    "name": "ipython",
    "version": 3
   },
   "file_extension": ".py",
   "mimetype": "text/x-python",
   "name": "python",
   "nbconvert_exporter": "python",
   "pygments_lexer": "ipython3",
   "version": "3.9.16"
  }
 },
 "nbformat": 4,
 "nbformat_minor": 5
}
