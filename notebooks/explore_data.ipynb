{
 "cells": [
  {
   "cell_type": "code",
   "execution_count": 1,
   "id": "f2747705",
   "metadata": {},
   "outputs": [
    {
     "name": "stdout",
     "output_type": "stream",
     "text": [
      "{'paths': {'project_root': 'D:/python_projects/world_info', 'data_root': 'D:/python_projects/world_info/data', 'raw_folder': 'D:/python_projects/world_info/data/raw'}, 'database_paths': {'bronze': 'D:/python_projects/world_info/data/bronze', 'silver': 'D:/python_projects/world_info/data/silver'}, 'raw_paths': {'unodc_func_justice': 'D:/python_projects/world_info/data/raw/data_cts_access_and_functioning_of_justice/data_cts_access_and_functioning_of_justice.xlsx', 'unodc_econ_crime': 'D:/python_projects/world_info/data/raw/data_cts_corruption_and_economic_crime/data_cts_corruption_and_economic_crime.xlsx', 'unodc_sexual_violent': 'D:/python_projects/world_info/data/raw/data_cts_violent_and_sexual_crime/data_cts_violent_and_sexual_crime.xlsx', 'wb_edstats': 'D:/python_projects/world_info/data/raw/Edstats_Updated/Edstats_Updated.csv', 'wb_gem_cpi_yoy_nominal': 'D:/python_projects/world_info/data/raw/GemDataEXTR/unzipped/CPI Price, % y-o-y, nominal, seas. adj..xlsx', 'wb_gem_core_cpi_seas_adj': 'D:/python_projects/world_info/data/raw/GemDataEXTR/unzipped/Core CPI, seas. adj..xlsx', 'wb_real_exchange_rate': 'D:/python_projects/world_info/data/raw/GemDataEXTR/unzipped/Real Effective Exchange Rate.xlsx', 'wb_official_exchange_rate': 'D:/python_projects/world_info/data/raw/GemDataEXTR/unzipped/Official exchange rate, LCU per USD, period average.xlsx', 'wb_gdp_current': 'D:/python_projects/world_info/data/raw/GemDataEXTR/unzipped/GDP at market prices, constant 2010 US$, millions, seas. adj..xlsx', 'wb_gdp_constant': 'D:/python_projects/world_info/data/raw/GemDataEXTR/unzipped/GDP at market prices, current US$, millions, seas. adj..xlsx', 'wb_export_merch': 'D:/python_projects/world_info/data/raw/GemDataEXTR/unzipped/Exports Merchandise, Customs, current US$, millions, seas. adj..xlsx', 'wb_import_merch': 'D:/python_projects/world_info/data/raw/GemDataEXTR/unzipped/Imports Merchandise, Customs, current US$, millions, seas. adj..xlsx', 'wb_unemployment': 'D:/python_projects/world_info/data/raw/GemDataEXTR/unzipped/Unemployment Rate, seas. adj..xlsx', 'wb_industrial_production': 'D:/python_projects/world_info/data/raw/GemDataEXTR/unzipped/Industrial Production, constant 2010 US$, seas. adj..xlsx', 'wb_total_reserves': 'D:/python_projects/world_info/data/raw/GemDataEXTR/unzipped/Total Reserves.xlsx', 'wb_stock_markets': 'D:/python_projects/world_info/data/raw/GemDataEXTR/unzipped/Stock Markets, US$.xlsx', 'wb_foreign_reserves': 'D:/python_projects/world_info/data/raw/GemDataEXTR/unzipped/Foreign Reserves, Months Import Cover, Goods.xlsx', 'wb_retail_sales_volume_index': 'D:/python_projects/world_info/data/raw/GemDataEXTR/unzipped/Retail Sales Volume Index, seas. adj..xlsx', 'wb_gender_stats': 'D:/python_projects/world_info/data/raw/Gender_Stats_CSV/unzipped/Gender_StatsCSV.csv', 'wb_gender_stats_country': 'D:/python_projects/world_info/data/raw/Gender_Stats_CSV/unzipped/Gender_StatsCountry.csv', 'wb_gender_stats_series': 'D:/python_projects/world_info/data/raw/Gender_Stats_CSV/unzipped/Gender_StatsSeries.csv', 'wb_hnp_stats': 'D:/python_projects/world_info/data/raw/HNP_Stats_CSV/unzipped/HNP_StatsCSV.csv', 'wb_hnp_stats_series': 'D:/python_projects/world_info/data/raw/HNP_Stats_CSV/unzipped/HNP_StatsSeries.csv', 'wb_hnp_stats_country': 'D:/python_projects/world_info/data/raw/HNP_Stats_CSV/unzipped/HNP_StatsCountry.csv', 'wb_ids_stats': 'D:/python_projects/world_info/data/raw/IDS_CSV/unzipped/IDS_ALLCountries_Data.csv', 'wb_ids_series': 'D:/python_projects/world_info/data/raw/IDS_CSV/unzipped/IDS_SeriesMetaData.csv', 'wb_ids_country': 'D:\\\\python_projects\\\\world_info\\\\data\\\\raw\\\\IDS_CSV\\\\unzipped\\\\IDS_CountryMetaData.csv', 'wb_jobs_stats': 'D:/python_projects/world_info/data/raw/Jobs_CSV/unzipped/JobsCSV.csv', 'wb_jobs_country': 'D:/python_projects/world_info/data/raw/Jobs_CSV/unzipped/JobsCountry.csv', 'wb_jobs_series': 'D:/python_projects/world_info/data/raw/Jobs_CSV/unzipped/JobsSeries.csv'}, 'bronze_table_paths': {'unodc_func_justice': 'D:/python_projects/world_info/data/bronze/unodc_func_justice', 'unodc_econ_crime': 'D:/python_projects/world_info/data/bronze/unodc_econ_crime', 'unodc_sexual_violent': 'D:/python_projects/world_info/data/bronze/unodc_sexual_violent', 'wb_edstats': 'D:/python_projects/world_info/data/bronze/wb_edstats', 'wb_gem_cpi_yoy_nominal_annual': 'D:/python_projects/world_info/data/bronze/wb_gem_cpi_yoy_nominal_annual', 'wb_gem_cpi_yoy_nominal_monthly': 'D:/python_projects/world_info/data/bronze/wb_gem_cpi_yoy_nominal_monthly', 'wb_gem_core_cpi_seas_adj_annual': 'D:/python_projects/world_info/data/bronze/wb_gem_core_cpi_seas_adj_annual', 'wb_gem_core_cpi_seas_adj_monthly': 'D:/python_projects/world_info/data/bronze/wb_gem_core_cpi_seas_adj_monthly', 'wb_real_exchange_rate_annual': 'D:/python_projects/world_info/data/bronze/wb_real_exchange_rate_annual', 'wb_real_exchange_rate_monthly': 'D:/python_projects/world_info/data/bronze/wb_real_exchange_rate_monthly', 'wb_official_exchange_rate_annual': 'D:/python_projects/world_info/data/bronze/wb_official_exchange_rate_annual', 'wb_official_exchange_rate_monthly': 'D:/python_projects/world_info/data/bronze/wb_official_exchange_rate_monthly', 'wb_gdp_current_annual': 'D:/python_projects/world_info/data/bronze/wb_gdp_current_annual', 'wb_gdp_current_quarterly': 'D:/python_projects/world_info/data/bronze/wb_gdp_current_quarterly', 'wb_gdp_constant_annual': 'D:/python_projects/world_info/data/bronze/wb_gdp_constant_annual', 'wb_gdp_constant_quarterly': 'D:/python_projects/world_info/data/bronze/wb_gdp_constant_quarterly', 'wb_import_merch_annual': 'D:/python_projects/world_info/data/bronze/wb_import_merch_annual', 'wb_import_merch_quarterly': 'D:/python_projects/world_info/data/bronze/wb_import_merch_quarterly', 'wb_import_merch_monthly': 'D:/python_projects/world_info/data/bronze/wb_import_merch_monthly', 'wb_export_merch_annual': 'D:/python_projects/world_info/data/bronze/wb_export_merch_annual', 'wb_export_merch_quarterly': 'D:/python_projects/world_info/data/bronze/wb_export_merch_quarterly', 'wb_export_merch_monthly': 'D:/python_projects/world_info/data/bronze/wb_export_merch_monthly', 'wb_unemployment_annual': 'D:/python_projects/world_info/data/bronze/wb_unemployment_annual', 'wb_unemployment_monthly': 'D:/python_projects/world_info/data/bronze/wb_unemployment_monthly', 'wb_industrial_production_annual': 'D:/python_projects/world_info/data/bronze/wb_industrial_production_annual', 'wb_industrial_production_monthly': 'D:/python_projects/world_info/data/bronze/wb_industrial_production_monthly', 'wb_total_reserves_annual': 'D:/python_projects/world_info/data/bronze/wb_total_reserves_annual', 'wb_total_reserves_monthly': 'D:/python_projects/world_info/data/bronze/wb_total_reserves_monthly', 'wb_stock_markets_annual': 'D:/python_projects/world_info/data/bronze/wb_stock_markets_annual', 'wb_stock_markets_monthly': 'D:/python_projects/world_info/data/bronze/wb_stock_markets_monthly', 'wb_foreign_reserves_annual': 'D:/python_projects/world_info/data/bronze/wb_foreign_reserves_annual', 'wb_foreign_reserves_monthly': 'D:/python_projects/world_info/data/bronze/wb_foreign_reserves_monthly', 'wb_retail_sales_volume_index_annual': 'D:/python_projects/world_info/data/bronze/wb_retail_sales_volume_index_annual', 'wb_retail_sales_volume_index_monthly': 'D:/python_projects/world_info/data/bronze/wb_retail_sales_volume_index_monthly', 'wb_gender_stats': 'D:/python_projects/world_info/data/bronze/wb_gender_stats', 'wb_hnp_stats': 'D:/python_projects/world_info/data/bronze/wb_hnp_stats', 'wb_ids_stats': 'D:/python_projects/world_info/data/bronze/wb_ids_stats', 'wb_jobs_stats': 'D:/python_projects/world_info/data/bronze/wb_jobs_stats', 'wb_non_gem_countries': 'D:/python_projects/world_info/data/bronze/wb_non_gem_countries', 'wb_non_gem_indicators': 'D:/python_projects/world_info/data/bronze/wb_non_gem_indicators'}, 'silver_table_paths': {'dim_country_unodc': 'D:/python_projects/world_info/data/silver/dim_country_unodc', 'fact_crime_and_justice_unodc': 'D:/python_projects/world_info/data/silver/fact_crime_and_justice_unodc', 'fact_gem_annual': 'D:/python_projects/world_info/data/silver/fact_gem_annual', 'fact_gem_monthly': 'D:/python_projects/world_info/data/silver/fact_gem_monthly', 'fact_gem_quarterly': 'D:/python_projects/world_info/data/silver/fact_gem_quarterly', 'fact_wb_edstats': 'D:/python_projects/world_info/data/silver/fact_wb_edstats', 'dim_country_wb': 'D:/python_projects/world_info/data/silver/dim_country_wb', 'dim_indicator_wb': 'D:/python_projects/world_info/data/silver/dim_indicator_wb', 'fact_wb_stats_non_gem': 'D:/python_projects/world_info/data/silver/fact_wb_stats_non_gem'}, 'gold_table_paths': {'dim_country': 'D:/python_projects/world_info/data/gold/dim_country', 'fact_unodc_crime_global': 'D:/python_projects/world_info/data/gold/fact_unodc_crime_global', 'fact_wb_gem_all_data': 'D:/python_projects/world_info/data/gold/fact_wb_gem_all_data', 'fact_wb_non_gem_all_data': 'D:/python_projects/world_info/data/gold/fact_wb_non_gem_all_data', 'fact_edstats': 'D:/python_projects/world_info/data/gold/fact_edstats'}, 'spark': {'warehouse_dir': 'D:/python_projects/world_info.data'}}\n",
      "-------------------- Starting create_spark_session notebook --------------------\n",
      "-------------------- Ending create_spark_session --------------------\n",
      "Created bronze\n",
      "Created silver\n",
      "D:/python_projects/world_info\n",
      "D:/python_projects/world_info/data/raw\n"
     ]
    }
   ],
   "source": [
    "import os\n",
    "import sys\n",
    "import re\n",
    "import pandas as pd\n",
    "import numpy as np\n",
    "import matplotlib.pyplot as plt\n",
    "import seaborn as sns\n",
    "\n",
    "from pyspark.sql import SparkSession\n",
    "from pyspark.sql.functions import *\n",
    "from pyspark.sql.types import *\n",
    "from pyspark.sql.window import Window\n",
    "from pyspark.storagelevel import StorageLevel\n",
    "from delta import configure_spark_with_delta_pip\n",
    "\n",
    "from utils.common_utils import *\n",
    "\n",
    "os.environ[\"PYSPARK_PYTHON\"] = os.environ[\"PYSPARK_DRIVER_PYTHON\"] = r\"D:\\python_projects\\world_info\\venv\\Scripts\\python.exe\"\n",
    "config_path = r'D:\\python_projects\\world_info\\config.yaml'.replace(\"\\\\\", \"/\")\n",
    "config = load_config(config_path)\n",
    "print(config)\n",
    "spark = create_spark_session('notebook', config)\n",
    "init_dbs(spark, config)\n",
    "\n",
    "project_root = config['paths']['project_root']\n",
    "raw_root = config['paths']['raw_folder']\n",
    "print(project_root)\n",
    "print(raw_root)"
   ]
  },
  {
   "cell_type": "code",
   "execution_count": null,
   "id": "1e6a778d",
   "metadata": {},
   "outputs": [
    {
     "name": "stdout",
     "output_type": "stream",
     "text": [
      "d:\\python_projects\\world_info\\data\n",
      "d:\\python_projects\\world_info\\data\\raw\n"
     ]
    }
   ],
   "source": []
  },
  {
   "cell_type": "code",
   "execution_count": null,
   "id": "f1f5d827",
   "metadata": {},
   "outputs": [],
   "source": []
  },
  {
   "cell_type": "code",
   "execution_count": null,
   "id": "c11b970b",
   "metadata": {},
   "outputs": [],
   "source": []
  },
  {
   "cell_type": "code",
   "execution_count": null,
   "id": "3f8c58c2",
   "metadata": {},
   "outputs": [],
   "source": []
  },
  {
   "cell_type": "code",
   "execution_count": null,
   "id": "eeb1cd84",
   "metadata": {},
   "outputs": [],
   "source": []
  },
  {
   "cell_type": "code",
   "execution_count": null,
   "id": "df99646c",
   "metadata": {},
   "outputs": [],
   "source": []
  },
  {
   "cell_type": "code",
   "execution_count": null,
   "id": "5c13b36f",
   "metadata": {},
   "outputs": [],
   "source": []
  },
  {
   "cell_type": "code",
   "execution_count": null,
   "id": "968b736f",
   "metadata": {},
   "outputs": [],
   "source": []
  },
  {
   "cell_type": "code",
   "execution_count": null,
   "id": "3063cfba",
   "metadata": {},
   "outputs": [],
   "source": []
  },
  {
   "cell_type": "code",
   "execution_count": null,
   "id": "67e6ae16",
   "metadata": {},
   "outputs": [],
   "source": []
  },
  {
   "cell_type": "code",
   "execution_count": null,
   "id": "4a0c90ee",
   "metadata": {},
   "outputs": [],
   "source": []
  },
  {
   "cell_type": "code",
   "execution_count": null,
   "id": "b9d58373",
   "metadata": {},
   "outputs": [],
   "source": []
  },
  {
   "cell_type": "code",
   "execution_count": null,
   "id": "d5365621",
   "metadata": {
    "vscode": {
     "languageId": "powershell"
    }
   },
   "outputs": [],
   "source": []
  },
  {
   "cell_type": "code",
   "execution_count": null,
   "id": "a6619024",
   "metadata": {},
   "outputs": [],
   "source": []
  },
  {
   "cell_type": "code",
   "execution_count": null,
   "id": "ecd28bba",
   "metadata": {},
   "outputs": [],
   "source": []
  },
  {
   "cell_type": "code",
   "execution_count": null,
   "id": "6a80763b",
   "metadata": {},
   "outputs": [],
   "source": []
  },
  {
   "cell_type": "code",
   "execution_count": null,
   "id": "74b67556",
   "metadata": {},
   "outputs": [],
   "source": []
  },
  {
   "cell_type": "code",
   "execution_count": null,
   "id": "94bbb82d",
   "metadata": {},
   "outputs": [],
   "source": []
  },
  {
   "cell_type": "code",
   "execution_count": null,
   "id": "fab71060",
   "metadata": {},
   "outputs": [],
   "source": []
  },
  {
   "cell_type": "code",
   "execution_count": null,
   "id": "e306fe26",
   "metadata": {},
   "outputs": [],
   "source": []
  },
  {
   "cell_type": "code",
   "execution_count": null,
   "id": "bc0deca5",
   "metadata": {},
   "outputs": [],
   "source": []
  },
  {
   "cell_type": "code",
   "execution_count": null,
   "id": "064c746c",
   "metadata": {},
   "outputs": [],
   "source": []
  },
  {
   "cell_type": "code",
   "execution_count": null,
   "id": "ef4dae59",
   "metadata": {},
   "outputs": [],
   "source": []
  },
  {
   "cell_type": "code",
   "execution_count": null,
   "id": "dd45a797",
   "metadata": {},
   "outputs": [],
   "source": []
  }
 ],
 "metadata": {
  "kernelspec": {
   "display_name": "venv",
   "language": "python",
   "name": "python3"
  },
  "language_info": {
   "codemirror_mode": {
    "name": "ipython",
    "version": 3
   },
   "file_extension": ".py",
   "mimetype": "text/x-python",
   "name": "python",
   "nbconvert_exporter": "python",
   "pygments_lexer": "ipython3",
   "version": "3.12.6"
  }
 },
 "nbformat": 4,
 "nbformat_minor": 5
}
